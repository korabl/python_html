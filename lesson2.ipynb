{
 "cells": [
  {
   "cell_type": "code",
   "execution_count": 468,
   "metadata": {},
   "outputs": [],
   "source": [
    "from bs4 import BeautifulSoup as bs\n",
    "import requests\n",
    "import pandas as pd\n",
    "from pprint import pprint\n",
    "import json\n",
    "from time import sleep\n",
    "\n",
    "header = {'User-Agent':'Mozilla/5.0 (Macintosh; Intel Mac OS X 10_15_5) AppleWebKit/537.36 (KHTML, like Gecko) Chrome/83.0.4103.97 Safari/537.36', \n",
    "         'Accept':'*/*'}\n",
    "\n",
    "time_to_sleep_when_captcha = 10\n",
    "main_link_hh = 'https://hh.ru'\n",
    "main_link_sj = 'https://russia.superjob.ru'\n",
    "job_name = str(input('Введите должность: '))\n",
    "# job_name_hh = 'Data+scientist'\n",
    "# job_name_sj = 'data-scientist'\n",
    "\n",
    "url_hh = f'/search/vacancy?L_is_autosearch=false&clusters=true&enable_snippets=true&text={job_name}&page=0'\n",
    "url_sj = f'/vakansii/{job_name}.html'"
   ]
  },
  {
   "cell_type": "code",
   "execution_count": 469,
   "metadata": {},
   "outputs": [],
   "source": [
    "def get_new_soup_hh(url_hh):\n",
    "    response_hh = requests.get(main_link_hh + url_hh, headers=header).text\n",
    "    soup_hh = bs(response_hh,'lxml')\n",
    "    return soup_hh\n",
    "\n",
    "def get_new_vacancy_list_hh(soup_hh):\n",
    "    vacancy_block_hh = soup_hh.find('div', {'class':'vacancy-serp'})\n",
    "    vacancy_list_hh = vacancy_block_hh.find_all('div', {'class':'vacancy-serp-item'})\n",
    "    return vacancy_list_hh"
   ]
  },
  {
   "cell_type": "code",
   "execution_count": 470,
   "metadata": {},
   "outputs": [],
   "source": [
    "def get_new_soup_sj(url_sj):\n",
    "    response_sj = requests.get(main_link_sj + url_sj, headers=header).text\n",
    "    soup_sj = bs(response_sj,'lxml')\n",
    "    return soup_sj\n",
    "\n",
    "def get_new_vacancy_list_sj(soup_sj):\n",
    "    vacancy_list_sj = soup_sj.find_all('div', {'class':'_3zucV _1fMKr undefined _1NAsu'})\n",
    "    return vacancy_list_sj"
   ]
  },
  {
   "cell_type": "code",
   "execution_count": 471,
   "metadata": {},
   "outputs": [],
   "source": [
    "vacancies = []\n",
    "\n",
    "def get_vacancies_hh(v_list, soup_hh):\n",
    "    for vacancy in v_list:\n",
    "        vacancy_data = {}\n",
    "        vacancy_name = vacancy.find('a', {'class':'bloko-link'}).getText()\n",
    "        vacancy_salary = vacancy.find('div', {'class':'vacancy-serp-item__sidebar'}).getText()\n",
    "        vacancy_link = vacancy.find('a', {'class':'bloko-link'})['href']\n",
    "        vacancy_site = main_link_hh\n",
    "        vacancy_data['name'] = vacancy_name\n",
    "        if len(vacancy_salary) < 1:\n",
    "            vacancy_data['salary'] = None\n",
    "        else:\n",
    "            vacancy_data['salary'] = vacancy_salary\n",
    "        vacancy_data['link'] = vacancy_link\n",
    "        vacancy_data['site'] = vacancy_site\n",
    "        vacancies.append(vacancy_data)\n",
    "    \n",
    "    sleep(time_to_sleep_when_captcha)\n",
    "    next_button_link_hh = soup_hh.find('a', {'class':'HH-Pager-Controls-Next'})['href']\n",
    "    return next_button_link_hh\n",
    "\n",
    "def get_vacancies_sj(v_list, soup_sj):\n",
    "    for vacancy in v_list:\n",
    "        vacancy_data = {}\n",
    "        vacancy_name = vacancy.find('div', {'class':'_3mfro'}).getText()\n",
    "        vacancy_salary = vacancy.find('span', {'class':'_3mfro _2Wp8I PlM3e _2JVkc _2VHxz'}).getText()\n",
    "        vacancy_link = main_link_sj + vacancy.find('a', {'class':'icMQ_ _6AfZ9 f-test-link-Genetik-analitik_dannyh_Data_scientist _2JivQ _1UJAN'})['href']\n",
    "        vacancy_site = main_link_sj\n",
    "        vacancy_data['name'] = vacancy_name\n",
    "        if len(vacancy_salary) < 1:\n",
    "            vacancy_data['salary'] = None\n",
    "        else:\n",
    "            vacancy_data['salary'] = vacancy_salary\n",
    "        vacancy_data['link'] = vacancy_link\n",
    "        vacancy_data['site'] = vacancy_site\n",
    "        vacancies.append(vacancy_data)\n",
    "    \n",
    "    sleep(time_to_sleep_when_captcha)\n",
    "    next_button_link_sj = main_link_sj + soup_sj.find('a', {'class':'icMQ_ _1_Cht _3ze9n f-test-button-dalshe f-test-link-Dalshe'})['href']\n",
    "    return next_button_link_sj"
   ]
  },
  {
   "cell_type": "code",
   "execution_count": 472,
   "metadata": {},
   "outputs": [
    {
     "name": "stdout",
     "output_type": "stream",
     "text": [
      "/search/vacancy?L_is_autosearch=false&clusters=true&enable_snippets=true&text=Data+scientist&page=1\n",
      "/search/vacancy?L_is_autosearch=false&clusters=true&enable_snippets=true&text=Data+scientist&page=2\n",
      "/search/vacancy?L_is_autosearch=false&clusters=true&enable_snippets=true&text=Data+scientist&page=3\n",
      "/search/vacancy?L_is_autosearch=false&clusters=true&enable_snippets=true&text=Data+scientist&page=4\n",
      "/search/vacancy?L_is_autosearch=false&clusters=true&enable_snippets=true&text=Data+scientist&page=5\n",
      "/search/vacancy?L_is_autosearch=false&clusters=true&enable_snippets=true&text=Data+scientist&page=6\n"
     ]
    }
   ],
   "source": [
    "while True:\n",
    "    soup_hh = get_new_soup_hh(url_hh)\n",
    "    vacancy_list_hh = get_new_vacancy_list_hh(soup_hh)\n",
    "    try:\n",
    "        url_hh = get_vacancies_hh(vacancy_list_hh, soup_hh)\n",
    "    except TypeError:\n",
    "        break"
   ]
  },
  {
   "cell_type": "code",
   "execution_count": 473,
   "metadata": {},
   "outputs": [
    {
     "name": "stdout",
     "output_type": "stream",
     "text": [
      "{'name': 'Генетик-аналитик данных / Data scientist', 'salary': 'По договорённости', 'link': 'https://russia.superjob.ru/vakansii/genetik-analitik-dannyh-33864238.html', 'site': 'https://russia.superjob.ru'}\n"
     ]
    }
   ],
   "source": [
    "while True:\n",
    "    soup_sj = get_new_soup_sj(url_sj)\n",
    "    vacancy_list_sj = get_new_vacancy_list_sj(soup_sj)\n",
    "    try:\n",
    "        url_sj = get_vacancies_sj(vacancy_list_sj, soup_sj)\n",
    "    except TypeError:\n",
    "        break"
   ]
  },
  {
   "cell_type": "code",
   "execution_count": 474,
   "metadata": {},
   "outputs": [
    {
     "name": "stdout",
     "output_type": "stream",
     "text": [
      "<class 'pandas.core.frame.DataFrame'>\n",
      "RangeIndex: 314 entries, 0 to 313\n",
      "Data columns (total 4 columns):\n",
      "name      314 non-null object\n",
      "salary    45 non-null object\n",
      "link      314 non-null object\n",
      "site      314 non-null object\n",
      "dtypes: object(4)\n",
      "memory usage: 9.9+ KB\n"
     ]
    }
   ],
   "source": [
    "vacancies_df = pd.DataFrame(vacancies)\n",
    "vacancies_df.info()"
   ]
  },
  {
   "cell_type": "code",
   "execution_count": 475,
   "metadata": {},
   "outputs": [
    {
     "data": {
      "text/html": [
       "<div>\n",
       "<style scoped>\n",
       "    .dataframe tbody tr th:only-of-type {\n",
       "        vertical-align: middle;\n",
       "    }\n",
       "\n",
       "    .dataframe tbody tr th {\n",
       "        vertical-align: top;\n",
       "    }\n",
       "\n",
       "    .dataframe thead th {\n",
       "        text-align: right;\n",
       "    }\n",
       "</style>\n",
       "<table border=\"1\" class=\"dataframe\">\n",
       "  <thead>\n",
       "    <tr style=\"text-align: right;\">\n",
       "      <th></th>\n",
       "      <th>name</th>\n",
       "      <th>salary</th>\n",
       "      <th>link</th>\n",
       "      <th>site</th>\n",
       "    </tr>\n",
       "  </thead>\n",
       "  <tbody>\n",
       "    <tr>\n",
       "      <td>0</td>\n",
       "      <td>Data Scientist</td>\n",
       "      <td>None</td>\n",
       "      <td>https://hh.ru/vacancy/37645302?query=Data%20sc...</td>\n",
       "      <td>https://hh.ru</td>\n",
       "    </tr>\n",
       "    <tr>\n",
       "      <td>1</td>\n",
       "      <td>Senior Data Scientist</td>\n",
       "      <td>None</td>\n",
       "      <td>https://hh.ru/vacancy/37645039?query=Data%20sc...</td>\n",
       "      <td>https://hh.ru</td>\n",
       "    </tr>\n",
       "    <tr>\n",
       "      <td>2</td>\n",
       "      <td>Python Data Scientist</td>\n",
       "      <td>от 150 000 руб.</td>\n",
       "      <td>https://hh.ru/vacancy/37521387?query=Data%20sc...</td>\n",
       "      <td>https://hh.ru</td>\n",
       "    </tr>\n",
       "    <tr>\n",
       "      <td>3</td>\n",
       "      <td>Senior Data Scientist</td>\n",
       "      <td>от 300 000 руб.</td>\n",
       "      <td>https://hh.ru/vacancy/37294434?query=Data%20sc...</td>\n",
       "      <td>https://hh.ru</td>\n",
       "    </tr>\n",
       "    <tr>\n",
       "      <td>4</td>\n",
       "      <td>Data Scientist</td>\n",
       "      <td>от 130 000 руб.</td>\n",
       "      <td>https://hh.ru/vacancy/37569615?query=Data%20sc...</td>\n",
       "      <td>https://hh.ru</td>\n",
       "    </tr>\n",
       "    <tr>\n",
       "      <td>5</td>\n",
       "      <td>Data Scientist</td>\n",
       "      <td>120 000-180 000 руб.</td>\n",
       "      <td>https://hh.ru/vacancy/37635578?query=Data%20sc...</td>\n",
       "      <td>https://hh.ru</td>\n",
       "    </tr>\n",
       "    <tr>\n",
       "      <td>6</td>\n",
       "      <td>Data Scientist</td>\n",
       "      <td>None</td>\n",
       "      <td>https://hh.ru/vacancy/37662353?query=Data%20sc...</td>\n",
       "      <td>https://hh.ru</td>\n",
       "    </tr>\n",
       "    <tr>\n",
       "      <td>7</td>\n",
       "      <td>Data Scientist</td>\n",
       "      <td>None</td>\n",
       "      <td>https://hh.ru/vacancy/37706122?query=Data%20sc...</td>\n",
       "      <td>https://hh.ru</td>\n",
       "    </tr>\n",
       "    <tr>\n",
       "      <td>8</td>\n",
       "      <td>Representation Learning Senior Research Scientist</td>\n",
       "      <td>3 000-8 000 USD</td>\n",
       "      <td>https://hh.ru/vacancy/37143803?query=Data%20sc...</td>\n",
       "      <td>https://hh.ru</td>\n",
       "    </tr>\n",
       "    <tr>\n",
       "      <td>9</td>\n",
       "      <td>Аналитик-математик (Data scientist)</td>\n",
       "      <td>80 000-100 000 руб.</td>\n",
       "      <td>https://hh.ru/vacancy/37698748?query=Data%20sc...</td>\n",
       "      <td>https://hh.ru</td>\n",
       "    </tr>\n",
       "  </tbody>\n",
       "</table>\n",
       "</div>"
      ],
      "text/plain": [
       "                                                name                salary  \\\n",
       "0                                     Data Scientist                  None   \n",
       "1                              Senior Data Scientist                  None   \n",
       "2                              Python Data Scientist       от 150 000 руб.   \n",
       "3                              Senior Data Scientist       от 300 000 руб.   \n",
       "4                                     Data Scientist       от 130 000 руб.   \n",
       "5                                     Data Scientist  120 000-180 000 руб.   \n",
       "6                                     Data Scientist                  None   \n",
       "7                                     Data Scientist                  None   \n",
       "8  Representation Learning Senior Research Scientist       3 000-8 000 USD   \n",
       "9                Аналитик-математик (Data scientist)   80 000-100 000 руб.   \n",
       "\n",
       "                                                link           site  \n",
       "0  https://hh.ru/vacancy/37645302?query=Data%20sc...  https://hh.ru  \n",
       "1  https://hh.ru/vacancy/37645039?query=Data%20sc...  https://hh.ru  \n",
       "2  https://hh.ru/vacancy/37521387?query=Data%20sc...  https://hh.ru  \n",
       "3  https://hh.ru/vacancy/37294434?query=Data%20sc...  https://hh.ru  \n",
       "4  https://hh.ru/vacancy/37569615?query=Data%20sc...  https://hh.ru  \n",
       "5  https://hh.ru/vacancy/37635578?query=Data%20sc...  https://hh.ru  \n",
       "6  https://hh.ru/vacancy/37662353?query=Data%20sc...  https://hh.ru  \n",
       "7  https://hh.ru/vacancy/37706122?query=Data%20sc...  https://hh.ru  \n",
       "8  https://hh.ru/vacancy/37143803?query=Data%20sc...  https://hh.ru  \n",
       "9  https://hh.ru/vacancy/37698748?query=Data%20sc...  https://hh.ru  "
      ]
     },
     "execution_count": 475,
     "metadata": {},
     "output_type": "execute_result"
    }
   ],
   "source": [
    "vacancies_df.head(10)"
   ]
  },
  {
   "cell_type": "code",
   "execution_count": null,
   "metadata": {},
   "outputs": [],
   "source": []
  }
 ],
 "metadata": {
  "kernelspec": {
   "display_name": "Python 3",
   "language": "python",
   "name": "python3"
  },
  "language_info": {
   "codemirror_mode": {
    "name": "ipython",
    "version": 3
   },
   "file_extension": ".py",
   "mimetype": "text/x-python",
   "name": "python",
   "nbconvert_exporter": "python",
   "pygments_lexer": "ipython3",
   "version": "3.7.4"
  }
 },
 "nbformat": 4,
 "nbformat_minor": 2
}
